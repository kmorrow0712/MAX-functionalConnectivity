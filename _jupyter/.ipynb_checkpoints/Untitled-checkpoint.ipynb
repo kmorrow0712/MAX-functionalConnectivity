{
 "cells": [
  {
   "cell_type": "markdown",
   "metadata": {},
   "source": [
    "---\n",
    "## Relevant details\n",
    "\n",
    "### Dataset\n",
    "MAX (N = 5) \n",
    "\n",
    "### Seed region(s)\n",
    "**left Crus II (cerebellum)** <br>\n",
    "`SUIT_l-CrusII_YeoNetwork6_intersect_gm_2mm.nii.gz` <br>\n",
    "\n",
    "#### Transformations\n",
    "1. Crus II multipled with [Buckner et al's](https://www.ncbi.nlm.nih.gov/pmc/articles/PMC3214121/) cognitive control network. \n",
    "2. Intersection then multiplied with a [SUIT](http://www.diedrichsenlab.org/imaging/suit.htm) gray matter mask.  \n",
    "\n",
    "\n",
    "### Programs utilized \n",
    "AFNI \n",
    "\n",
    "### Goal\n",
    "Practice generating general psychophysiological interaction (gPPI) terms to explore functional connectivity between seed regions and all other voxels of the brain and how this relationship relates to task. </br>\n",
    "\n",
    "### Info\n",
    " Scripts and data files are described below. Each step is documented with output images or examples when applicable. Very small group of subjects used with a simple analysis in mind (for now...). <br>\n",
    " _All scripts shown are shell script and show typical shell shortcuts e.g., `\"$subj\"`_\n"
   ]
  },
  {
   "cell_type": "markdown",
   "metadata": {},
   "source": [
    "---\n",
    "## Extract time series from seed region(s)\n",
    "\n",
    "#### 1. Extract baseline from first level subject data\n",
    "First, need to extract the baseline which includes drifts, motion, and motion derivatives as output from `3dDeconvolve` using `3dSynthesize`"
   ]
  },
  {
   "cell_type": "markdown",
   "metadata": {},
   "source": [
    "``3dSynthesize -cbucket ./MAX\"$subj\"_Main_block_MR_REML_beta_shockcensored_I.nii.gz \n",
    "-matrix ./\"MAX\"$subj\"_Main_block_MR_uncensored_I.x1D\" -select baseline -overwrite \n",
    "-prefix \"$output\"/MAX/\"$subj\"_EP_Main_TR_MNI_2mm_I_denoised_baselineModel.nii.gz``"
   ]
  },
  {
   "cell_type": "markdown",
   "metadata": {},
   "source": [
    "#### 2. Subtract baseline from preprocessed functional data"
   ]
  },
  {
   "cell_type": "code",
   "execution_count": null,
   "metadata": {},
   "outputs": [],
   "source": []
  }
 ],
 "metadata": {
  "kernelspec": {
   "display_name": "Python 3",
   "language": "python",
   "name": "python3"
  },
  "language_info": {
   "codemirror_mode": {
    "name": "ipython",
    "version": 3
   },
   "file_extension": ".py",
   "mimetype": "text/x-python",
   "name": "python",
   "nbconvert_exporter": "python",
   "pygments_lexer": "ipython3",
   "version": "3.7.7"
  }
 },
 "nbformat": 4,
 "nbformat_minor": 4
}
