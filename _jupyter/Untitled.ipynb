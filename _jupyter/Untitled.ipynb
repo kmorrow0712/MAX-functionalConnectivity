{
 "cells": [
  {
   "cell_type": "markdown",
   "metadata": {},
   "source": [
    "$ Y = \\beta_{0} + \\beta_{1}X_{seed} +\n",
    "\\beta_{2}X_{FNS} +\n",
    "\\beta_{3}X_{FNT} + \n",
    "\\beta_{4}X_{FPT} + \n",
    "\\beta_{5}X_{FPS} + \n",
    "\\beta_{6}X_{RNS} + \n",
    "\\beta_{7}X_{RNT} + \n",
    "\\beta_{8}X_{RPT} + \n",
    "\\beta_{9}X_{RPS} +\n",
    "\\beta_{10}X_{rate-FNS} + \n",
    "\\beta_{11}X_{rate-FNT} + \n",
    "\\beta_{12}X_{rate-FPT} + \n",
    "\\beta_{13}X_{rate-FPS} +\n",
    "\\beta_{14}X_{rate-RNS} +\n",
    "\\beta_{15}X_{rate-RNT} +\n",
    "\\beta_{16}X_{rate-RPT} +\n",
    "\\beta_{17}X_{rate-RPS} +\n",
    "(\\beta_{18}X_{FNS} * X_{seed}) +\n",
    "(\\beta_{18}X_{FNT} * X_{seed}) + \n",
    "(\\beta_{18}X_{FPS} * X_{seed}) +\n",
    "(\\beta_{18}X_{FPT} * X_{seed}) +\n",
    "\\varepsilon $"
   ]
  },
  {
   "cell_type": "markdown",
   "metadata": {},
   "source": [
    "$ Y =\n",
    "\\beta_{0} +\n",
    "\\beta_{1}X_{FNS} +\n",
    "\\beta_{2}X_{FNT} + \n",
    "\\beta_{3}X_{FPT} + \n",
    "\\beta_{4}X_{FPS} + \n",
    "\\beta_{5}X_{RNS} + \n",
    "\\beta_{6}X_{RNT} + \n",
    "\\beta_{7}X_{RPT} + \n",
    "\\beta_{8}X_{RPS} $"
   ]
  },
  {
   "cell_type": "markdown",
   "metadata": {},
   "source": [
    "$ +\n",
    "\\beta_{9}X_{rate-FNS} + \n",
    "\\beta_{10}X_{rate-FNT} + \n",
    "\\beta_{11}X_{rate-FPT} + \n",
    "\\beta_{12}X_{rate-FPS} +\n",
    "\\beta_{13}X_{rate-RNS} +\n",
    "\\beta_{14}X_{rate-RNT} +\n",
    "\\beta_{15}X_{rate-RPT} +\n",
    "\\beta_{16}X_{rate-RPS} + $"
   ]
  },
  {
   "cell_type": "markdown",
   "metadata": {},
   "source": [
    "$\n",
    "\\beta_{17}X_{seed} +\n",
    "(\\beta_{18}X_{FNS} * X_{seed}) +\n",
    "(\\beta_{18}X_{FNT} * X_{seed}) + \n",
    "(\\beta_{18}X_{FPS} * X_{seed}) +\n",
    "(\\beta_{18}X_{FPT} * X_{seed}) +\n",
    "\\varepsilon $"
   ]
  },
  {
   "cell_type": "code",
   "execution_count": null,
   "metadata": {},
   "outputs": [],
   "source": []
  }
 ],
 "metadata": {
  "kernelspec": {
   "display_name": "Python 3",
   "language": "python",
   "name": "python3"
  },
  "language_info": {
   "codemirror_mode": {
    "name": "ipython",
    "version": 3
   },
   "file_extension": ".py",
   "mimetype": "text/x-python",
   "name": "python",
   "nbconvert_exporter": "python",
   "pygments_lexer": "ipython3",
   "version": "3.7.7"
  }
 },
 "nbformat": 4,
 "nbformat_minor": 4
}
