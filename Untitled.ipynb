{
 "cells": [
  {
   "cell_type": "markdown",
   "metadata": {},
   "source": [
    "##### What is a Variance Inflation Factor (VIF)?\n",
    "\n",
    "Variance inflation factors (VIFs) show how much of the variance of a linear model regressor is inflated due to its covariance with other regressors in the same model. \n",
    "\n",
    "Say we have a simple linear model:\n"
   ]
  },
  {
   "cell_type": "markdown",
   "metadata": {},
   "source": [
    "\\\\[Y =  \\beta_{0} + \\beta_{1} X_{1} + \\beta_{2} X_{2} + \\beta_{3} X_{3} + \\epsilon \\\\]\n",
    "\n",
    "Where \\\\(Y = \\\\) dependent variable   \n",
    "\\\\(\\beta_{0} = \\\\) intercept  \n",
    "\\\\(\\beta_{1} X_{1} = \\\\) first regressor time series  \n",
    "\\\\(\\beta_{2} X_{2} = \\\\) second regressor time series  \n",
    "\\\\(\\beta_{3} X_{3} = \\\\) third regressor time series  \n",
    "\\\\(\\epsilon = \\\\) residual variance"
   ]
  },
  {
   "cell_type": "markdown",
   "metadata": {},
   "source": [
    "If two of our model components, say \\\\(\\beta_{1}\\\\) and \\\\(\\beta_{2}\\\\) are related in a way that they share variability, there is some variance in our model that cannot be attributed to one or the other independently. Therefore, it's important that we "
   ]
  },
  {
   "cell_type": "code",
   "execution_count": null,
   "metadata": {},
   "outputs": [],
   "source": []
  }
 ],
 "metadata": {
  "kernelspec": {
   "display_name": "Python 3",
   "language": "python",
   "name": "python3"
  },
  "language_info": {
   "codemirror_mode": {
    "name": "ipython",
    "version": 3
   },
   "file_extension": ".py",
   "mimetype": "text/x-python",
   "name": "python",
   "nbconvert_exporter": "python",
   "pygments_lexer": "ipython3",
   "version": "3.7.7"
  }
 },
 "nbformat": 4,
 "nbformat_minor": 4
}
